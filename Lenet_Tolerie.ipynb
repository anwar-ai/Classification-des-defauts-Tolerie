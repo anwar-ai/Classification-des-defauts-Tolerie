{
  "nbformat": 4,
  "nbformat_minor": 0,
  "metadata": {
    "colab": {
      "name": "Lenet Tolerie.ipynb",
      "provenance": [],
      "authorship_tag": "ABX9TyNoPaHgNN7x9Q2XPBqPPPUE"
    },
    "kernelspec": {
      "name": "python3",
      "display_name": "Python 3"
    },
    "accelerator": "GPU"
  },
  "cells": [
    {
      "cell_type": "markdown",
      "metadata": {
        "id": "MqMe_f7cjBO2",
        "colab_type": "text"
      },
      "source": [
        "\n",
        "\n",
        "# Le modèle le plus moche au monde\n",
        "\n",
        "\n"
      ]
    },
    {
      "cell_type": "code",
      "metadata": {
        "id": "C_qYmjW3dzTo",
        "colab_type": "code",
        "colab": {
          "base_uri": "https://localhost:8080/",
          "height": 35
        },
        "outputId": "674ad05e-fb7d-4d74-8d96-089c5498bd84"
      },
      "source": [
        "import numpy as np\n",
        "import os\n",
        "import time\n",
        "import csv\n",
        "import shutil\n",
        "from keras.preprocessing import image\n",
        "from keras.applications.imagenet_utils import preprocess_input\n",
        "from keras.utils import np_utils\n",
        "from sklearn.utils import shuffle\n",
        "from sklearn.model_selection import train_test_split\n",
        "from keras.applications.vgg16 import VGG16\n",
        "from keras.layers import Dense, Activation, Flatten\n",
        "from keras.layers import merge, Input\n",
        "from keras.models import Model"
      ],
      "execution_count": 1,
      "outputs": [
        {
          "output_type": "stream",
          "text": [
            "Using TensorFlow backend.\n"
          ],
          "name": "stderr"
        }
      ]
    },
    {
      "cell_type": "code",
      "metadata": {
        "id": "C_qbgnjVd03k",
        "colab_type": "code",
        "colab": {
          "base_uri": "https://localhost:8080/",
          "height": 146
        },
        "outputId": "e61433fa-a25e-4315-e1b9-5eab2f57b7ca"
      },
      "source": [
        "!git clone https://github.com/anwar-ai/Classification-des-defauts-Tolerie.git"
      ],
      "execution_count": 2,
      "outputs": [
        {
          "output_type": "stream",
          "text": [
            "Cloning into 'Classification-des-defauts-Tolerie'...\n",
            "remote: Enumerating objects: 15, done.\u001b[K\n",
            "remote: Counting objects: 100% (15/15), done.\u001b[K\n",
            "remote: Compressing objects: 100% (15/15), done.\u001b[K\n",
            "remote: Total 960 (delta 4), reused 0 (delta 0), pack-reused 945\u001b[K\n",
            "Receiving objects: 100% (960/960), 15.43 MiB | 15.13 MiB/s, done.\n",
            "Resolving deltas: 100% (21/21), done.\n"
          ],
          "name": "stdout"
        }
      ]
    },
    {
      "cell_type": "code",
      "metadata": {
        "id": "vcEnS7SueAwp",
        "colab_type": "code",
        "colab": {
          "base_uri": "https://localhost:8080/",
          "height": 35
        },
        "outputId": "64f5152b-2afe-4bc8-e5bf-c5c6d9b84e50"
      },
      "source": [
        "import os\n",
        "import numpy as np\n",
        "import cv2\n",
        "\n",
        "path=\"Classification-des-defauts-Tolerie/\"\n",
        "img_list=[]\n",
        "defect_type=[\"usure\",\"craquelage\",\"Piqures\"]\n",
        "for type_ in defect_type:\n",
        "  img_names_list=os.listdir(path+type_)\n",
        "  for j in img_names_list :\n",
        "    image=cv2.imread(path+type_+\"/\"+j,0)\n",
        "    image=cv2.resize(image,(224,224))\n",
        "    img_list.append(image)\n",
        "image_=np.array(img_list).reshape(900,224,224,1)\n",
        "  \n",
        "print(image_.shape)"
      ],
      "execution_count": 13,
      "outputs": [
        {
          "output_type": "stream",
          "text": [
            "(900, 224, 224, 1)\n"
          ],
          "name": "stdout"
        }
      ]
    },
    {
      "cell_type": "code",
      "metadata": {
        "id": "4g-PHcfGd1KO",
        "colab_type": "code",
        "colab": {}
      },
      "source": [
        "x=image_\n",
        "num_of_samples = image_.shape[0]\n",
        "\n",
        "labels = np.ones((num_of_samples,),dtype='int64')\n",
        "num_classes = 3\n",
        "labels[0:300]=0\n",
        "labels[300:600]=1\n",
        "labels[600:900]=2\n",
        "\n",
        "\n",
        "Y = np_utils.to_categorical(labels, num_classes)\n",
        "\n",
        "x,y = shuffle(image_,Y, random_state=2)\n",
        "\n",
        "X_train, X_test, y_train, y_test = train_test_split(x,y, test_size=0.2, random_state=2)"
      ],
      "execution_count": 0,
      "outputs": []
    },
    {
      "cell_type": "code",
      "metadata": {
        "id": "GuPlMO4fehwi",
        "colab_type": "code",
        "colab": {}
      },
      "source": [
        "\n",
        "from keras.models import Sequential\n",
        "from keras.optimizers import Adam\n",
        "from keras.layers import Dense\n",
        "from keras.layers import Flatten, Dropout\n",
        "from keras.layers.convolutional import Conv2D, MaxPooling2D\n",
        "import random"
      ],
      "execution_count": 0,
      "outputs": []
    },
    {
      "cell_type": "code",
      "metadata": {
        "id": "HLYPrqWZeUY1",
        "colab_type": "code",
        "colab": {}
      },
      "source": [
        "def modified_model():\n",
        "  model = Sequential()\n",
        "  model.add(Conv2D(60, (5, 5), input_shape=(224, 224, 1), activation='relu'))\n",
        "  model.add(Conv2D(60, (5, 5), activation='relu'))\n",
        "  model.add(MaxPooling2D(pool_size=(2, 2)))\n",
        "  \n",
        "  model.add(Conv2D(100, (7, 7), input_shape=(224, 224, 1), activation='relu'))\n",
        "  model.add(Conv2D(100, (7, 7), activation='relu'))\n",
        "  model.add(MaxPooling2D(pool_size=(2, 2)))\n",
        "  model.add(Conv2D(200, (3, 3), activation='relu'))\n",
        "   \n",
        "  model.add(MaxPooling2D(pool_size=(2, 2)))\n",
        "  \n",
        "  model.add(Flatten())\n",
        "  model.add(Dense(3, activation='relu'))\n",
        "  model.add(Dropout(0.5))\n",
        "  model.add(Dense(3, activation='softmax'))\n",
        "  \n",
        "  model.compile(Adam(lr = 0.001), loss='categorical_crossentropy', metrics=['accuracy'])\n",
        "  return model"
      ],
      "execution_count": 0,
      "outputs": []
    },
    {
      "cell_type": "code",
      "metadata": {
        "id": "fJH08TXPcXmD",
        "colab_type": "code",
        "colab": {
          "base_uri": "https://localhost:8080/",
          "height": 990
        },
        "outputId": "dcc7632b-b032-4905-c578-5a6205d9a163"
      },
      "source": [
        "model = modified_model()\n",
        "print(model.summary())\n",
        "\n",
        "history = model.fit(X_train, y_train, batch_size=50,epochs=10, shuffle = 1)"
      ],
      "execution_count": 35,
      "outputs": [
        {
          "output_type": "stream",
          "text": [
            "Model: \"sequential_10\"\n",
            "_________________________________________________________________\n",
            "Layer (type)                 Output Shape              Param #   \n",
            "=================================================================\n",
            "conv2d_34 (Conv2D)           (None, 220, 220, 60)      1560      \n",
            "_________________________________________________________________\n",
            "conv2d_35 (Conv2D)           (None, 216, 216, 60)      90060     \n",
            "_________________________________________________________________\n",
            "max_pooling2d_19 (MaxPooling (None, 108, 108, 60)      0         \n",
            "_________________________________________________________________\n",
            "conv2d_36 (Conv2D)           (None, 102, 102, 100)     294100    \n",
            "_________________________________________________________________\n",
            "conv2d_37 (Conv2D)           (None, 96, 96, 100)       490100    \n",
            "_________________________________________________________________\n",
            "max_pooling2d_20 (MaxPooling (None, 48, 48, 100)       0         \n",
            "_________________________________________________________________\n",
            "conv2d_38 (Conv2D)           (None, 46, 46, 200)       180200    \n",
            "_________________________________________________________________\n",
            "max_pooling2d_21 (MaxPooling (None, 23, 23, 200)       0         \n",
            "_________________________________________________________________\n",
            "flatten_10 (Flatten)         (None, 105800)            0         \n",
            "_________________________________________________________________\n",
            "dense_19 (Dense)             (None, 3)                 317403    \n",
            "_________________________________________________________________\n",
            "dropout_10 (Dropout)         (None, 3)                 0         \n",
            "_________________________________________________________________\n",
            "dense_20 (Dense)             (None, 3)                 12        \n",
            "=================================================================\n",
            "Total params: 1,373,435\n",
            "Trainable params: 1,373,435\n",
            "Non-trainable params: 0\n",
            "_________________________________________________________________\n",
            "None\n",
            "Epoch 1/10\n",
            "720/720 [==============================] - 24s 33ms/step - loss: 1.3322 - accuracy: 0.3222\n",
            "Epoch 2/10\n",
            "720/720 [==============================] - 14s 20ms/step - loss: 1.0986 - accuracy: 0.3361\n",
            "Epoch 3/10\n",
            "720/720 [==============================] - 14s 20ms/step - loss: 1.0986 - accuracy: 0.3361\n",
            "Epoch 4/10\n",
            "720/720 [==============================] - 14s 20ms/step - loss: 1.0986 - accuracy: 0.3361\n",
            "Epoch 5/10\n",
            "720/720 [==============================] - 14s 20ms/step - loss: 1.0986 - accuracy: 0.3361\n",
            "Epoch 6/10\n",
            "720/720 [==============================] - 14s 20ms/step - loss: 1.0986 - accuracy: 0.3361\n",
            "Epoch 7/10\n",
            "720/720 [==============================] - 14s 20ms/step - loss: 1.0986 - accuracy: 0.3361\n",
            "Epoch 8/10\n",
            "720/720 [==============================] - 14s 20ms/step - loss: 1.0986 - accuracy: 0.3361\n",
            "Epoch 9/10\n",
            "720/720 [==============================] - 14s 20ms/step - loss: 1.0986 - accuracy: 0.3361\n",
            "Epoch 10/10\n",
            "720/720 [==============================] - 14s 20ms/step - loss: 1.0987 - accuracy: 0.3361\n"
          ],
          "name": "stdout"
        }
      ]
    },
    {
      "cell_type": "code",
      "metadata": {
        "id": "vCtrJfrWcXh7",
        "colab_type": "code",
        "colab": {
          "base_uri": "https://localhost:8080/",
          "height": 313
        },
        "outputId": "7fb82b6b-a5d8-4659-9a74-79f1bd864227"
      },
      "source": [
        "import matplotlib.pyplot as plt\n",
        "\n",
        "plt.plot(history.history['loss'])\n",
        " \n",
        "plt.title('Loss')\n",
        "plt.xlabel('epoch')\n",
        "\n",
        " \n",
        " \n",
        "plt.legend(['training','test'])\n",
        "plt.title('Accuracy')\n",
        "plt.xlabel('epoch')"
      ],
      "execution_count": 33,
      "outputs": [
        {
          "output_type": "execute_result",
          "data": {
            "text/plain": [
              "Text(0.5, 0, 'epoch')"
            ]
          },
          "metadata": {
            "tags": []
          },
          "execution_count": 33
        },
        {
          "output_type": "display_data",
          "data": {
            "image/png": "[encoded data removed]",
            "text/plain": [
              "<Figure size 432x288 with 1 Axes>"
            ]
          },
          "metadata": {
            "tags": [],
            "needs_background": "light"
          }
        }
      ]
    }
  ]
}